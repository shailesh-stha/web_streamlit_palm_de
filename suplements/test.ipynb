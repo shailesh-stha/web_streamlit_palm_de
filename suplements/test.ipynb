{
 "cells": [
  {
   "cell_type": "code",
   "execution_count": null,
   "metadata": {},
   "outputs": [],
   "source": [
    "import numpy as np\n",
    "import netCDF4 as nc\n",
    "\n",
    "# Input NetCDF file\n",
    "input_file1 = r\"F:\\Simulation_Comparison\\simulation_data\\_kn_4096x4096_base - backup\\konstanz_4096x4096_v4_xy_N03.000.nc\"\n",
    "input_file2 = r\"F:\\Simulation_Comparison\\simulation_data\\_kn_4096x4096_test - backup\\konstanz_4096x4096_v5_xy_N03.000.nc\"\n",
    "# Output NetCDF file\n",
    "output_file1 = r\"F:\\konstanz_4096x4096_v4_xy_N03_reduced.000.nc\"\n",
    "output_file2 = r\"F:\\konstanz_4096x4096_v5_xy_N03_reduced.000.nc\"\n",
    "\n",
    "input = input_file2\n",
    "output = output_file2\n",
    "\n",
    "x_tick_interval = 1  # 1 hour\n",
    "band_sequence = [0]\n",
    "band_sequence.extend(np.arange(5, 144, 6 * x_tick_interval))\n",
    "\n",
    "# List of variables to extract\n",
    "variable_list = ['ta_2m*_xy', 'tsurf*_xy', 'wspeed_10m*_xy', 'rad_net*_xy']\n",
    "variable_name = 'ta_2m*_xy'"
   ]
  },
  {
   "cell_type": "code",
   "execution_count": 30,
   "metadata": {},
   "outputs": [
    {
     "name": "stdout",
     "output_type": "stream",
     "text": [
      "[[[-47.382904   -47.334618   -47.32982    ...   8.282834     7.782694\n",
      "     7.6105447 ]\n",
      "  [-47.388416   -47.338497   -47.330353   ...   8.763486     8.049803\n",
      "     7.8140454 ]\n",
      "  [-47.398808   -47.35995    -47.351795   ...   8.980398     8.361284\n",
      "     8.033255  ]\n",
      "  ...\n",
      "  [-45.575195   -31.45624    -38.121952   ...  12.337206     0.37447026\n",
      "    -8.528113  ]\n",
      "  [-45.876183   -34.860138   -40.728065   ...   2.1716864   -7.8061547\n",
      "   -12.634586  ]\n",
      "  [-46.09766    -41.547066   -51.816372   ...  -7.121284   -11.788713\n",
      "   -17.458963  ]]]\n",
      "[[[-47.38290405 -47.33461761 -47.32981873 ...   8.28283405   7.78269386\n",
      "     7.61054468]\n",
      "  [-47.38841629 -47.33849716 -47.33035278 ...   8.76348591   8.04980278\n",
      "     7.81404543]\n",
      "  [-47.39880753 -47.35995102 -47.3517952  ...   8.98039818   8.36128426\n",
      "     8.03325462]\n",
      "  ...\n",
      "  [-45.57519531 -31.4562397  -38.12195206 ...  12.33720589   0.37447026\n",
      "    -8.52811337]\n",
      "  [-45.87618256 -34.86013794 -40.72806549 ...   2.17168641  -7.80615473\n",
      "   -12.63458633]\n",
      "  [-46.09766006 -41.54706573 -51.81637192 ...  -7.12128401 -11.78871346\n",
      "   -17.45896339]]]\n"
     ]
    }
   ],
   "source": [
    "ds = nc.Dataset(input, mode='r')\n",
    "\n",
    "# out_file = nc.Dataset(output, mode='w')\n",
    "\n",
    "# for dim_name, dim in ds.dimensions.items():\n",
    "#     # Modify the dimension size for the dimension 'time' to 25 and start from 0\n",
    "#     if dim_name == 'time':\n",
    "#         out_file.createDimension(dim_name, 25)\n",
    "#         out_variable = out_file.createVariable(dim_name, ds[dim_name].dtype, (dim_name,))\n",
    "#         out_variable[:] = np.arange(25)\n",
    "#     else:\n",
    "#         out_file.createDimension(dim_name, len(dim))\n",
    "#         # Copy 'x' and 'y' variables to the output file\n",
    "#         if dim_name == 'x' or dim_name == 'y':\n",
    "#             out_variable = out_file.createVariable(dim_name, ds[dim_name].dtype, (dim_name,))\n",
    "#             out_variable[:] = ds[dim_name][:]\n",
    "\n",
    "# # Copy global attributes from the input file to the output file\n",
    "# for i, attr_name in enumerate(ds.ncattrs()):\n",
    "#     if attr_name != \"VAR_LIST\":\n",
    "#         out_file.setncattr(attr_name, ds.getncattr(attr_name))\n",
    "\n",
    "out_variable_data = np.empty((25,1,256,256))\n",
    "\n",
    "for i, band_index in enumerate(band_sequence):\n",
    "    band_data = ds[variable_name][band_index,:,:,:]\n",
    "    out_variable_data[i,:,:,:] = band_data\n",
    "\n",
    "print(ds[variable_name][0,:,:,:])\n",
    "print(out_variable_data[0,:,:,:])\n"
   ]
  },
  {
   "cell_type": "code",
   "execution_count": 21,
   "metadata": {},
   "outputs": [],
   "source": [
    "out_file.close()"
   ]
  },
  {
   "cell_type": "code",
   "execution_count": 20,
   "metadata": {},
   "outputs": [
    {
     "name": "stdout",
     "output_type": "stream",
     "text": [
      "<class 'netCDF4._netCDF4.Dataset'>\n",
      "root group (NETCDF4 data model, file format HDF5):\n",
      "    dimensions(sizes): time(25), zu_xy(9), zw_xy(9), zs_xy(8), zu1_xy(1), x(256), xu(256), y(256)\n",
      "    variables(dimensions): float64 time(time), float64 x(x), float64 y(y)\n",
      "    groups: \n",
      "['time', 'x', 'y']\n",
      "time (25,)\n",
      "x (256,)\n",
      "y (256,)\n"
     ]
    }
   ],
   "source": [
    "output_file2 = r\"F:\\konstanz_4096x4096_v5_xy_N03_reduced.000.nc\"\n",
    "\n",
    "# file = r\"F:\\konstanz_4096x4096_v5_xy_N03.000.nc\"\n",
    "# Read NetCDF file as dataset\n",
    "ds = nc.Dataset(output_file2, mode=\"r\")\n",
    "print(ds)\n",
    "\n",
    "# Read variable from dataset\n",
    "variable_names = list(ds.variables.keys())\n",
    "print(variable_names)\n",
    "for var in variable_names:\n",
    "    print(var, np.shape(ds[var]))"
   ]
  }
 ],
 "metadata": {
  "kernelspec": {
   "display_name": "palm_data",
   "language": "python",
   "name": "python3"
  },
  "language_info": {
   "codemirror_mode": {
    "name": "ipython",
    "version": 3
   },
   "file_extension": ".py",
   "mimetype": "text/x-python",
   "name": "python",
   "nbconvert_exporter": "python",
   "pygments_lexer": "ipython3",
   "version": "3.9.16"
  }
 },
 "nbformat": 4,
 "nbformat_minor": 2
}
