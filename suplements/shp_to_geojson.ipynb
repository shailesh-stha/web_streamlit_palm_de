{
 "cells": [
  {
   "cell_type": "code",
   "execution_count": 1,
   "metadata": {},
   "outputs": [],
   "source": [
    "import geopandas as gpd"
   ]
  },
  {
   "cell_type": "code",
   "execution_count": 2,
   "metadata": {},
   "outputs": [],
   "source": [
    "building_shapefile_path = r\"F:\\Simulation_Comparison\\web_streamlit_palm\\data\\shapefiles\\buildings.shp\"\n",
    "trees_base_crown_path = r\"F:\\Simulation_Comparison\\web_streamlit_palm\\data\\shapefiles\\trees_base_crown.shp\"\n",
    "trees_base_trunk_path = r\"F:\\Simulation_Comparison\\web_streamlit_palm\\data\\shapefiles\\trees_base_trunk.shp\"\n",
    "added_trees_crown_path = r\"F:\\Simulation_Comparison\\web_streamlit_palm\\data\\shapefiles\\added_trees_crown.shp\"\n",
    "added_trees_trunk_path = r\"F:\\Simulation_Comparison\\web_streamlit_palm\\data\\shapefiles\\added_trees_trunk.shp\""
   ]
  },
  {
   "cell_type": "code",
   "execution_count": 3,
   "metadata": {},
   "outputs": [
    {
     "data": {
      "text/html": [
       "<div>\n",
       "<style scoped>\n",
       "    .dataframe tbody tr th:only-of-type {\n",
       "        vertical-align: middle;\n",
       "    }\n",
       "\n",
       "    .dataframe tbody tr th {\n",
       "        vertical-align: top;\n",
       "    }\n",
       "\n",
       "    .dataframe thead th {\n",
       "        text-align: right;\n",
       "    }\n",
       "</style>\n",
       "<table border=\"1\" class=\"dataframe\">\n",
       "  <thead>\n",
       "    <tr style=\"text-align: right;\">\n",
       "      <th></th>\n",
       "      <th>T_spec</th>\n",
       "      <th>T_heig</th>\n",
       "      <th>T_crown_1</th>\n",
       "      <th>T_trunk</th>\n",
       "      <th>geometry</th>\n",
       "    </tr>\n",
       "  </thead>\n",
       "  <tbody>\n",
       "    <tr>\n",
       "      <th>0</th>\n",
       "      <td>Celtis</td>\n",
       "      <td>10</td>\n",
       "      <td>8</td>\n",
       "      <td>37</td>\n",
       "      <td>POLYGON ((9.17684 47.66035, 9.17684 47.66035, ...</td>\n",
       "    </tr>\n",
       "    <tr>\n",
       "      <th>1</th>\n",
       "      <td>Celtis</td>\n",
       "      <td>10</td>\n",
       "      <td>8</td>\n",
       "      <td>37</td>\n",
       "      <td>POLYGON ((9.17663 47.66033, 9.17663 47.66033, ...</td>\n",
       "    </tr>\n",
       "    <tr>\n",
       "      <th>2</th>\n",
       "      <td>Celtis</td>\n",
       "      <td>10</td>\n",
       "      <td>8</td>\n",
       "      <td>37</td>\n",
       "      <td>POLYGON ((9.17616 47.66030, 9.17616 47.66030, ...</td>\n",
       "    </tr>\n",
       "    <tr>\n",
       "      <th>3</th>\n",
       "      <td>Celtis</td>\n",
       "      <td>10</td>\n",
       "      <td>8</td>\n",
       "      <td>37</td>\n",
       "      <td>POLYGON ((9.17594 47.66029, 9.17594 47.66029, ...</td>\n",
       "    </tr>\n",
       "    <tr>\n",
       "      <th>4</th>\n",
       "      <td>Celtis</td>\n",
       "      <td>10</td>\n",
       "      <td>8</td>\n",
       "      <td>37</td>\n",
       "      <td>POLYGON ((9.17578 47.66027, 9.17578 47.66027, ...</td>\n",
       "    </tr>\n",
       "  </tbody>\n",
       "</table>\n",
       "</div>"
      ],
      "text/plain": [
       "   T_spec  T_heig  T_crown_1  T_trunk  \\\n",
       "0  Celtis      10          8       37   \n",
       "1  Celtis      10          8       37   \n",
       "2  Celtis      10          8       37   \n",
       "3  Celtis      10          8       37   \n",
       "4  Celtis      10          8       37   \n",
       "\n",
       "                                            geometry  \n",
       "0  POLYGON ((9.17684 47.66035, 9.17684 47.66035, ...  \n",
       "1  POLYGON ((9.17663 47.66033, 9.17663 47.66033, ...  \n",
       "2  POLYGON ((9.17616 47.66030, 9.17616 47.66030, ...  \n",
       "3  POLYGON ((9.17594 47.66029, 9.17594 47.66029, ...  \n",
       "4  POLYGON ((9.17578 47.66027, 9.17578 47.66027, ...  "
      ]
     },
     "execution_count": 3,
     "metadata": {},
     "output_type": "execute_result"
    }
   ],
   "source": [
    "gdf = gpd.read_file(added_trees_trunk_path)\n",
    "gdf = gdf.to_crs(epsg=4326)\n",
    "gdf.head()"
   ]
  },
  {
   "cell_type": "code",
   "execution_count": 4,
   "metadata": {},
   "outputs": [
    {
     "data": {
      "text/html": [
       "<div>\n",
       "<style scoped>\n",
       "    .dataframe tbody tr th:only-of-type {\n",
       "        vertical-align: middle;\n",
       "    }\n",
       "\n",
       "    .dataframe tbody tr th {\n",
       "        vertical-align: top;\n",
       "    }\n",
       "\n",
       "    .dataframe thead th {\n",
       "        text-align: right;\n",
       "    }\n",
       "</style>\n",
       "<table border=\"1\" class=\"dataframe\">\n",
       "  <thead>\n",
       "    <tr style=\"text-align: right;\">\n",
       "      <th></th>\n",
       "      <th>T_heig</th>\n",
       "      <th>geometry</th>\n",
       "    </tr>\n",
       "  </thead>\n",
       "  <tbody>\n",
       "    <tr>\n",
       "      <th>0</th>\n",
       "      <td>10</td>\n",
       "      <td>POLYGON ((9.17684 47.66035, 9.17684 47.66035, ...</td>\n",
       "    </tr>\n",
       "    <tr>\n",
       "      <th>1</th>\n",
       "      <td>10</td>\n",
       "      <td>POLYGON ((9.17663 47.66033, 9.17663 47.66033, ...</td>\n",
       "    </tr>\n",
       "    <tr>\n",
       "      <th>2</th>\n",
       "      <td>10</td>\n",
       "      <td>POLYGON ((9.17616 47.66030, 9.17616 47.66030, ...</td>\n",
       "    </tr>\n",
       "    <tr>\n",
       "      <th>3</th>\n",
       "      <td>10</td>\n",
       "      <td>POLYGON ((9.17594 47.66029, 9.17594 47.66029, ...</td>\n",
       "    </tr>\n",
       "    <tr>\n",
       "      <th>4</th>\n",
       "      <td>10</td>\n",
       "      <td>POLYGON ((9.17578 47.66027, 9.17578 47.66027, ...</td>\n",
       "    </tr>\n",
       "  </tbody>\n",
       "</table>\n",
       "</div>"
      ],
      "text/plain": [
       "   T_heig                                           geometry\n",
       "0      10  POLYGON ((9.17684 47.66035, 9.17684 47.66035, ...\n",
       "1      10  POLYGON ((9.17663 47.66033, 9.17663 47.66033, ...\n",
       "2      10  POLYGON ((9.17616 47.66030, 9.17616 47.66030, ...\n",
       "3      10  POLYGON ((9.17594 47.66029, 9.17594 47.66029, ...\n",
       "4      10  POLYGON ((9.17578 47.66027, 9.17578 47.66027, ..."
      ]
     },
     "execution_count": 4,
     "metadata": {},
     "output_type": "execute_result"
    }
   ],
   "source": [
    "# columns_indices_to_drop = list(range(0,11)) + [12] # buildings\n",
    "# columns_indices_to_drop = [0, 2, 3]\n",
    "columns_indices_to_drop = [0, 2, 3]\n",
    "gdf_clean = gdf.drop(gdf.columns[columns_indices_to_drop], axis=1)\n",
    "gdf_clean.head()"
   ]
  },
  {
   "cell_type": "code",
   "execution_count": 5,
   "metadata": {},
   "outputs": [],
   "source": [
    "output_geojson_path = r'F:\\output_file.geojson'\n",
    "gdf_clean.to_file(output_geojson_path, driver='GeoJSON')"
   ]
  },
  {
   "cell_type": "code",
   "execution_count": null,
   "metadata": {},
   "outputs": [],
   "source": []
  }
 ],
 "metadata": {
  "kernelspec": {
   "display_name": "palm_data",
   "language": "python",
   "name": "python3"
  },
  "language_info": {
   "codemirror_mode": {
    "name": "ipython",
    "version": 3
   },
   "file_extension": ".py",
   "mimetype": "text/x-python",
   "name": "python",
   "nbconvert_exporter": "python",
   "pygments_lexer": "ipython3",
   "version": "3.9.16"
  }
 },
 "nbformat": 4,
 "nbformat_minor": 2
}
